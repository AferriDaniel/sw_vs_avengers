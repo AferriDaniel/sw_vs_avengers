{
 "cells": [
  {
   "cell_type": "markdown",
   "id": "2cbfcbdc-4462-4c5f-9842-15bdfdb2ae2a",
   "metadata": {},
   "source": [
    "## IMPORTAR LIBRERÍAS"
   ]
  },
  {
   "cell_type": "code",
   "execution_count": 1,
   "id": "736c45b6-d869-4b6e-8391-b00b108e80fe",
   "metadata": {},
   "outputs": [],
   "source": [
    "import pandas as pd"
   ]
  },
  {
   "cell_type": "markdown",
   "id": "715152b1-8eb5-436c-952c-43fb2e894761",
   "metadata": {},
   "source": [
    "### Cargar datos"
   ]
  },
  {
   "cell_type": "code",
   "execution_count": 4,
   "id": "57779cc2-78a6-4839-a9fd-8a01c43aecc7",
   "metadata": {
    "tags": []
   },
   "outputs": [
    {
     "data": {
      "text/html": [
       "<div>\n",
       "<style scoped>\n",
       "    .dataframe tbody tr th:only-of-type {\n",
       "        vertical-align: middle;\n",
       "    }\n",
       "\n",
       "    .dataframe tbody tr th {\n",
       "        vertical-align: top;\n",
       "    }\n",
       "\n",
       "    .dataframe thead th {\n",
       "        text-align: right;\n",
       "    }\n",
       "</style>\n",
       "<table border=\"1\" class=\"dataframe\">\n",
       "  <thead>\n",
       "    <tr style=\"text-align: right;\">\n",
       "      <th></th>\n",
       "      <th>PELICULA</th>\n",
       "      <th>PRESUPUESTO</th>\n",
       "      <th>RECAUDACION (millones de dolares)</th>\n",
       "      <th>ESTRENO</th>\n",
       "    </tr>\n",
       "  </thead>\n",
       "  <tbody>\n",
       "    <tr>\n",
       "      <th>0</th>\n",
       "      <td>Star Wars : Episodio IV - Una nueva esperanza</td>\n",
       "      <td>11,000,000</td>\n",
       "      <td>775.398007</td>\n",
       "      <td>1977</td>\n",
       "    </tr>\n",
       "    <tr>\n",
       "      <th>1</th>\n",
       "      <td>Star Wars: Episodio V - EL imperio contraataca</td>\n",
       "      <td>18,000,000</td>\n",
       "      <td>538.375067</td>\n",
       "      <td>1980</td>\n",
       "    </tr>\n",
       "    <tr>\n",
       "      <th>2</th>\n",
       "      <td>Star Wars : Episodio VI - El retorno del Jedi</td>\n",
       "      <td>32,500,000</td>\n",
       "      <td>475.106177</td>\n",
       "      <td>1983</td>\n",
       "    </tr>\n",
       "    <tr>\n",
       "      <th>3</th>\n",
       "      <td>Star Wars: Episodio I - La Amenaza fantasma</td>\n",
       "      <td>115,000,000</td>\n",
       "      <td>1027.082707</td>\n",
       "      <td>1999</td>\n",
       "    </tr>\n",
       "    <tr>\n",
       "      <th>4</th>\n",
       "      <td>Star Wars: Episodio II  - El ataque de los clones</td>\n",
       "      <td>115,000,000</td>\n",
       "      <td>653.779970</td>\n",
       "      <td>2002</td>\n",
       "    </tr>\n",
       "    <tr>\n",
       "      <th>5</th>\n",
       "      <td>Star Wars: Episodio III - La venganza de los Sith</td>\n",
       "      <td>113,000,000</td>\n",
       "      <td>868.390560</td>\n",
       "      <td>2005</td>\n",
       "    </tr>\n",
       "    <tr>\n",
       "      <th>6</th>\n",
       "      <td>The Avengers</td>\n",
       "      <td>220,000,000</td>\n",
       "      <td>15188.115515</td>\n",
       "      <td>2012</td>\n",
       "    </tr>\n",
       "    <tr>\n",
       "      <th>7</th>\n",
       "      <td>Star Wars : Episodio VII  - El despertar de la...</td>\n",
       "      <td>245,000,000</td>\n",
       "      <td>2069.521700</td>\n",
       "      <td>2015</td>\n",
       "    </tr>\n",
       "    <tr>\n",
       "      <th>8</th>\n",
       "      <td>The Avengers: Age of Ultron</td>\n",
       "      <td>250,000,000</td>\n",
       "      <td>1402.809540</td>\n",
       "      <td>2015</td>\n",
       "    </tr>\n",
       "    <tr>\n",
       "      <th>9</th>\n",
       "      <td>Star Wars : Episodio VIII - Los últimos Jedi</td>\n",
       "      <td>317,000,000</td>\n",
       "      <td>1332.698830</td>\n",
       "      <td>2017</td>\n",
       "    </tr>\n",
       "    <tr>\n",
       "      <th>10</th>\n",
       "      <td>The Avengers: Infinity War</td>\n",
       "      <td>316,000,000</td>\n",
       "      <td>2048.359754</td>\n",
       "      <td>2018</td>\n",
       "    </tr>\n",
       "    <tr>\n",
       "      <th>11</th>\n",
       "      <td>Star Wars: Episodio IX -El ascenso de Skywalker</td>\n",
       "      <td>275,000,000</td>\n",
       "      <td>1078.232589</td>\n",
       "      <td>2019</td>\n",
       "    </tr>\n",
       "    <tr>\n",
       "      <th>12</th>\n",
       "      <td>The Avengers: Endgame</td>\n",
       "      <td>356,000,000</td>\n",
       "      <td>2797.501328</td>\n",
       "      <td>2019</td>\n",
       "    </tr>\n",
       "  </tbody>\n",
       "</table>\n",
       "</div>"
      ],
      "text/plain": [
       "                                             PELICULA  PRESUPUESTO  \\\n",
       "0       Star Wars : Episodio IV - Una nueva esperanza   11,000,000   \n",
       "1      Star Wars: Episodio V - EL imperio contraataca   18,000,000   \n",
       "2       Star Wars : Episodio VI - El retorno del Jedi   32,500,000   \n",
       "3         Star Wars: Episodio I - La Amenaza fantasma  115,000,000   \n",
       "4   Star Wars: Episodio II  - El ataque de los clones  115,000,000   \n",
       "5   Star Wars: Episodio III - La venganza de los Sith  113,000,000   \n",
       "6                                        The Avengers  220,000,000   \n",
       "7   Star Wars : Episodio VII  - El despertar de la...  245,000,000   \n",
       "8                         The Avengers: Age of Ultron  250,000,000   \n",
       "9        Star Wars : Episodio VIII - Los últimos Jedi  317,000,000   \n",
       "10                         The Avengers: Infinity War  316,000,000   \n",
       "11    Star Wars: Episodio IX -El ascenso de Skywalker  275,000,000   \n",
       "12                              The Avengers: Endgame  356,000,000   \n",
       "\n",
       "    RECAUDACION (millones de dolares)   ESTRENO  \n",
       "0                          775.398007      1977  \n",
       "1                          538.375067      1980  \n",
       "2                          475.106177      1983  \n",
       "3                         1027.082707      1999  \n",
       "4                          653.779970      2002  \n",
       "5                          868.390560      2005  \n",
       "6                        15188.115515      2012  \n",
       "7                         2069.521700      2015  \n",
       "8                         1402.809540      2015  \n",
       "9                         1332.698830      2017  \n",
       "10                        2048.359754      2018  \n",
       "11                        1078.232589      2019  \n",
       "12                        2797.501328      2019  "
      ]
     },
     "execution_count": 4,
     "metadata": {},
     "output_type": "execute_result"
    }
   ],
   "source": [
    "raw_data = pd.read_excel('./SW vs Avengers/Recaudaciones.xlsx')\n",
    "raw_data"
   ]
  },
  {
   "cell_type": "markdown",
   "id": "54893519-b246-4116-9882-c2c2203781a0",
   "metadata": {},
   "source": [
    "## Descripcion de la base de datos"
   ]
  },
  {
   "cell_type": "markdown",
   "id": "efc15ef6-79a8-415d-bf8d-b8de03a559dd",
   "metadata": {},
   "source": [
    "La tabla muestra los presupuestos de las películas correspondientes a las sagas de Star Wars y de Avengers. Se tienen en cuenta las recaudaciones a nivel mundial sin añadir o contabilizar los preestrenos o estrenos \"en casa\". La moneda usada es el Dólar Estadounidense\n",
    "fuente https://www.boxofficemojo.com/"
   ]
  },
  {
   "cell_type": "markdown",
   "id": "88f6d061-25d9-4738-a160-855e217d55c5",
   "metadata": {},
   "source": [
    "Al mirar la tabla de datos podemos observar varias cosas: La primera es que las columnas de PRESUPUESTO Y RECAUDACIÓN están en unidades diferentes: mientras que el presupuesto se indica en unidades absolutas, la recaudación está en millones de dólares, por lo que habrá que tenerlo todo en las mismas unidades.Lo segundo es que podemos ver que los años de estreno y por tanto recaudación son distintos, así que para realizar comparaciones habrá que ponderar las cantidades segúon la inflación actual (a última fecha disponible).\n",
    "Se observa además lo que podría ser una dificultad añadida, y es que  en algunos títulos hay un especio entre la palabra \"Wars\" y \":\" y en otros no. Deberemos tenerlo en cuenta si necesitamos hacer un split para una posterior clasificación de dichas películas."
   ]
  },
  {
   "cell_type": "markdown",
   "id": "10d430d7-7417-494d-b8fe-02f44c60d335",
   "metadata": {
    "tags": []
   },
   "source": [
    "Para este análisis de datos se consideran las recaudaciones de las peliculas en su estreno mundial, así como la ponderacion por inflacion a Enero de 2022"
   ]
  },
  {
   "cell_type": "markdown",
   "id": "ca98ff72-a1a9-4a85-ab82-b69d11935fab",
   "metadata": {},
   "source": [
    "#### Limpieza de datos"
   ]
  },
  {
   "cell_type": "markdown",
   "id": "084c13cb-d359-4717-a2a1-98eb4e7a9959",
   "metadata": {},
   "source": [
    "De forma preventiva, voy a eliminar espacios en blanco en los nombres de las columnas"
   ]
  },
  {
   "cell_type": "code",
   "execution_count": null,
   "id": "d0dd3aca-b274-4fc5-ae40-e48102df26b4",
   "metadata": {
    "tags": []
   },
   "outputs": [],
   "source": [
    "raw_data.columns=[column.strip() for column in raw_data.columns]"
   ]
  },
  {
   "cell_type": "markdown",
   "id": "e08e0c96-3b14-486a-8562-c4d3e3bc6e02",
   "metadata": {},
   "source": [
    "No me convence que el año de estreno esté al final, voy a ponerlo justo después del título de la película."
   ]
  },
  {
   "cell_type": "code",
   "execution_count": null,
   "id": "37af98fa-548d-4523-8e4b-d8cdb5c46640",
   "metadata": {},
   "outputs": [],
   "source": [
    "raw_data=raw_data[['PELICULA', 'ESTRENO', 'PRESUPUESTO', 'RECAUDACION (millones de dolares)']]"
   ]
  },
  {
   "cell_type": "markdown",
   "id": "ca2b0e88-4dfd-48c7-9d02-33c9414d3cc6",
   "metadata": {},
   "source": [
    "### AJUSTE DE LAS UNIDADES DE LA COLUMNA PRESUPUESTO"
   ]
  },
  {
   "cell_type": "markdown",
   "id": "4f3917b8-204e-489a-a285-6608c16ccbbf",
   "metadata": {},
   "source": [
    "Para realizar este ajuste, dividiré la columna entre 1.000.000 para establecerlo como \"millones de dólares\""
   ]
  },
  {
   "cell_type": "code",
   "execution_count": null,
   "id": "38235908-a353-44e5-b39f-c96ee593865e",
   "metadata": {
    "tags": []
   },
   "outputs": [],
   "source": [
    "raw_data.describe()"
   ]
  },
  {
   "cell_type": "markdown",
   "id": "16fe630b-18bb-4328-a8dd-49fdb453e072",
   "metadata": {},
   "source": [
    "Observamos que ni la columna PELICULA ni la columna RECAUDACIÓN aparecen en el describe, me hace sospechar que RECAUDACION no es tipo numérico y es algo que habría que solucionar primero"
   ]
  },
  {
   "cell_type": "code",
   "execution_count": null,
   "id": "9e60156c-7a4b-48b2-b98f-8f2db89a7eae",
   "metadata": {
    "tags": []
   },
   "outputs": [],
   "source": [
    "raw_data.dtypes"
   ]
  },
  {
   "cell_type": "markdown",
   "id": "71581362-59b6-4eb0-b9c7-68cf0d4019b5",
   "metadata": {},
   "source": [
    "Efectivamente, comprobamos que ni PELICULA ni PRESUPUESTO son columnas numéricas. El primer paso será entonces cambiar el tipo de dato de la columna PRESUPUESTO. aplicamos una función lambda para cambiar el tipo de dato y además aplicar este cambio de unidades."
   ]
  },
  {
   "cell_type": "code",
   "execution_count": null,
   "id": "6f324fae-3a05-4628-bdb1-ec01e269e313",
   "metadata": {
    "tags": []
   },
   "outputs": [],
   "source": [
    "raw_data"
   ]
  },
  {
   "cell_type": "code",
   "execution_count": null,
   "id": "08949bad-bb47-432e-8db3-d7c13abc0278",
   "metadata": {},
   "outputs": [],
   "source": [
    "raw_data.insert(3,'PRESUPUESTO (millones de dólares)', raw_data['PRESUPUESTO'].apply(lambda x: float(x.replace(',',''))/1000000))"
   ]
  },
  {
   "cell_type": "code",
   "execution_count": null,
   "id": "a9b08c07-e958-4ea5-87cb-479ac46fd1f6",
   "metadata": {
    "tags": []
   },
   "outputs": [],
   "source": [
    "raw_data"
   ]
  },
  {
   "cell_type": "markdown",
   "id": "b076f0b0-69a5-4114-a66a-56dd5ab0afb3",
   "metadata": {},
   "source": [
    "### PONDERACION DE MONEDAS POR INFLACION"
   ]
  },
  {
   "cell_type": "markdown",
   "id": "b04dcb45-6061-48eb-aa62-e3442118055b",
   "metadata": {},
   "source": [
    "Para el siguiente punto deberé de realizar una investigación y averiguar cuál es el último dato de inflación disponible a fecha 15.02.2022"
   ]
  },
  {
   "cell_type": "markdown",
   "id": "9cd1378e-948a-4ab7-aaf4-1395533fb811",
   "metadata": {},
   "source": [
    "la última cifra de la inflación disponible para EEUU (que usa el dólar) es del 7'5% (Enero de 2022)"
   ]
  },
  {
   "cell_type": "code",
   "execution_count": null,
   "id": "38e09482-c702-417c-b4b1-638426758bdd",
   "metadata": {},
   "outputs": [],
   "source": [
    "inflacion = 7.5/100"
   ]
  },
  {
   "cell_type": "code",
   "execution_count": null,
   "id": "8297d831-b010-4f98-a952-6b8a9f8e2657",
   "metadata": {},
   "outputs": [],
   "source": [
    "raw_data.columns"
   ]
  },
  {
   "cell_type": "code",
   "execution_count": null,
   "id": "06c73e8d-21f6-4d3e-9293-7712bdc36474",
   "metadata": {},
   "outputs": [],
   "source": [
    "raw_data"
   ]
  },
  {
   "cell_type": "markdown",
   "id": "0b6d5097-d6ef-41f7-9319-5cd0a5a64968",
   "metadata": {},
   "source": [
    "Para ponderar tanto el presupuesto como la recaudación, calculamos el 7'5% de cada cantidad y se lo restamos al total. "
   ]
  },
  {
   "cell_type": "code",
   "execution_count": null,
   "id": "ebf9d241-abcb-480c-9ce1-2749388a07bf",
   "metadata": {
    "tags": []
   },
   "outputs": [],
   "source": [
    "raw_data.insert(4,'PRESUPUESTO PONDERADO POR INFLACION',raw_data['PRESUPUESTO (millones de dólares)'].apply(lambda x: x-x*inflacion))\n",
    "raw_data"
   ]
  },
  {
   "cell_type": "markdown",
   "id": "c678605f-b403-415a-ab20-dc4c94eb56bb",
   "metadata": {},
   "source": [
    "Hacemos la operación homónima para las recaudaciones: "
   ]
  },
  {
   "cell_type": "code",
   "execution_count": null,
   "id": "996c2041-b712-4ca0-a63e-68e5550846e8",
   "metadata": {
    "tags": []
   },
   "outputs": [],
   "source": [
    "raw_data.insert(6,'RECAUDACION PONDERADA POR INFLACION', raw_data['RECAUDACION (millones de dolares)'].apply(lambda x: x-x*inflacion))\n",
    "raw_data"
   ]
  },
  {
   "cell_type": "markdown",
   "id": "b2d03179-a767-4ba2-aa9f-6b1c3fd1e9c9",
   "metadata": {},
   "source": [
    "Nota: habiendo consultado varias fuentes de datos, he visto que los datos con respecto al presupuesto y la recaudación son los mismo, pero no he encontrado definición alguna sobre lo que se muestra con estas cantidades, lo que me hace preguntarme si la recaudación tiene en cuenta el presupuesto, es decir, está calculada como beneficio neto(recaudación menos presupuesto), o si bien es la recaudación en bruto(sin tener en cuenta el prespuesto de la película). La intuición me dice que es recaudación en bruto, lo cual lo tendré en cuenta en objetivos posteriores."
   ]
  },
  {
   "cell_type": "markdown",
   "id": "28da5c03-f3c0-4990-9e6b-8a6969664625",
   "metadata": {},
   "source": [
    "#### Categorización de los datos"
   ]
  },
  {
   "cell_type": "markdown",
   "id": "d695d221-3616-412d-a2d9-3a76d321abd2",
   "metadata": {},
   "source": [
    "Para facilitar el análisis de datos, voy a crear dos categorías dependiendo de si la película pertenece a la saga de Star Wars, o a la saga de Avengers"
   ]
  },
  {
   "cell_type": "code",
   "execution_count": null,
   "id": "dacd6ef5-4403-4a58-91c6-6abef6f2dfdf",
   "metadata": {},
   "outputs": [],
   "source": [
    "for i in raw_data['PELICULA']:\n",
    "    print('Star' in i.split())"
   ]
  },
  {
   "cell_type": "code",
   "execution_count": null,
   "id": "0564cdf7-d7f0-4e55-82b7-65555f54d9bc",
   "metadata": {},
   "outputs": [],
   "source": [
    "def seek_word(my_string,word):\n",
    "    splited_string=my_string.split()\n",
    "    result=None\n",
    "    for i in splited_string:\n",
    "        result=word in splited_string\n",
    "    return result"
   ]
  },
  {
   "cell_type": "code",
   "execution_count": null,
   "id": "ef625e6c-6203-4757-9553-ab7e6ac12ece",
   "metadata": {},
   "outputs": [],
   "source": [
    "def cat_film(string):\n",
    "    word='Star'\n",
    "    if seek_word(string,word):\n",
    "        category = 'STAR WARS'\n",
    "    else:\n",
    "        category = 'AVENGERS'\n",
    "    return category\n"
   ]
  },
  {
   "cell_type": "code",
   "execution_count": null,
   "id": "ef066934-8fe2-4d4e-9b09-61062a9a2e84",
   "metadata": {
    "tags": []
   },
   "outputs": [],
   "source": [
    "raw_data['SAGA']=raw_data['PELICULA'].apply(lambda x: cat_film(x))\n",
    "raw_data"
   ]
  },
  {
   "cell_type": "code",
   "execution_count": null,
   "id": "a3611c7d-a2ca-4518-a5b6-694ee2181639",
   "metadata": {},
   "outputs": [],
   "source": [
    "raw_data=raw_data[['PELICULA','SAGA', 'ESTRENO', 'PRESUPUESTO',\n",
    "       'PRESUPUESTO (millones de dólares)',\n",
    "       'PRESUPUESTO PONDERADO POR INFLACION',\n",
    "       'RECAUDACION (millones de dolares)',\n",
    "       'RECAUDACION PONDERADA POR INFLACION',]]"
   ]
  },
  {
   "cell_type": "code",
   "execution_count": null,
   "id": "cbe6fd51-1bb5-49e0-ac3f-d284f4df2c39",
   "metadata": {},
   "outputs": [],
   "source": [
    "raw_data"
   ]
  },
  {
   "cell_type": "markdown",
   "id": "866b3a0f-0349-496a-b193-64e04ebc40b3",
   "metadata": {},
   "source": [
    "Aunque podríamos empezar ya comparando recaudaciones, me gustaría obtener una columna beneficios donde reflejaría los beneficios como la diferencia entre el presupuesto(lo que costó la película) y la recaudacion y otra columna que reflejaría el beneficio relativo en tanto por ciento ya que puede darse el caso de que una película/saga tenga una recaudación mayor, pero también es posible que haya un mayor presupuesto."
   ]
  },
  {
   "cell_type": "code",
   "execution_count": null,
   "id": "0bd84528-cd05-42c1-9ab6-60cd7d16e0ea",
   "metadata": {
    "tags": []
   },
   "outputs": [],
   "source": [
    "raw_data['BENEFICIO NETO']=raw_data['RECAUDACION PONDERADA POR INFLACION']-raw_data['PRESUPUESTO PONDERADO POR INFLACION']\n",
    "raw_data"
   ]
  },
  {
   "cell_type": "code",
   "execution_count": null,
   "id": "a266bd8c-5e58-4e32-8e0b-90932db7a9cf",
   "metadata": {},
   "outputs": [],
   "source": [
    "raw_data['BENEFICIO RELATIVO %']=(raw_data['BENEFICIO NETO']/raw_data['RECAUDACION PONDERADA POR INFLACION'])*100\n",
    "raw_data"
   ]
  },
  {
   "cell_type": "markdown",
   "id": "3e9ec0ab-9db3-419f-85f4-3928974dc6f6",
   "metadata": {},
   "source": [
    "Parece que habríamos terminado de limpiar la tabla; en un primer vistazo vemos que hay 2 películas de la Saga Vengadores que coinciden en el año de estreno. Será intersante poner cierto foco en este suceso, ya que considero que no es lo mismo que en el mismo año se tenga la opción de ver una u otra pelicula, que solamente de tener una opción. En el año 2019 \"Endgame\" y \"el ascenso de Skywalker\" se estrenaron con presupuesto bastante parecidos, no obstante, la diferencia de ganancias entre estos dos cierres de saga es más que edvidente con un 87% de beneficio neto para la saga de los superhéroes frente a un modesto 74% para la saga de los jedis."
   ]
  },
  {
   "cell_type": "markdown",
   "id": "b6fd0874-f37b-400d-bf25-fc7ce7a68f30",
   "metadata": {},
   "source": [
    "# ANÁLISIS DESCRIPTIVO"
   ]
  },
  {
   "cell_type": "markdown",
   "id": "05763c6a-c843-446a-bf37-3cdc9ca432e5",
   "metadata": {
    "tags": []
   },
   "source": [
    "## PELICULAS CON MAYOR PRESUPUESTO"
   ]
  },
  {
   "cell_type": "code",
   "execution_count": null,
   "id": "90a52b78-6134-4eb9-9254-76a4367eb355",
   "metadata": {},
   "outputs": [],
   "source": [
    "import altair as alt"
   ]
  },
  {
   "cell_type": "code",
   "execution_count": null,
   "id": "694d7c70-050f-4aca-a912-5b2635494d54",
   "metadata": {
    "tags": []
   },
   "outputs": [],
   "source": [
    "raw_data"
   ]
  },
  {
   "cell_type": "markdown",
   "id": "bc5cf9ee-a9b8-46a8-9b4d-e036d84dfce2",
   "metadata": {},
   "source": [
    "#### Gráfico de barras"
   ]
  },
  {
   "cell_type": "markdown",
   "id": "13667f1a-c2c0-436a-b918-48fb8d2539c5",
   "metadata": {},
   "source": [
    "#### Comparación de presupuesto  de las películas"
   ]
  },
  {
   "cell_type": "code",
   "execution_count": null,
   "id": "8ea65a80-681e-41fa-be1a-c086cabc5782",
   "metadata": {},
   "outputs": [],
   "source": [
    "source = raw_data\n",
    "alt.Chart(source).mark_bar().encode(\n",
    "    alt.X('PELICULA',sort='-y'),\n",
    "    alt.Y('PRESUPUESTO PONDERADO POR INFLACION'),\n",
    "    #title='RELACION DE PELICULAS SEGÚN SU PRESUPUESTO',\n",
    "     # The highlight will be set on the result of a conditional statement\n",
    "    color=alt.condition(\n",
    "        alt.datum.SAGA == 'STAR WARS',  # If the year is 1810 this test returns True,\n",
    "        alt.value('steelblue'),     # which sets the bar orange.\n",
    "        alt.value('red')   # And if it's not true it sets the bar steelblue.\n",
    "    )\n",
    ").properties(width=600,title='Relación de películas por presupuesto')"
   ]
  },
  {
   "cell_type": "markdown",
   "id": "555218c6-e137-4a7e-a7da-f04ee5848edc",
   "metadata": {},
   "source": [
    "Se observa que la película con mayor presupuesto es el cierre de saga the \"Los vengadores\", \"The Avengers: Endgame\", seguida de \"Star Wars VIII: Los últimos jedi\" y \"The Avengers: Infinity War\".  Se observan presupuestos muy parecidos para los episodios I, II y III de la saga Galáctica que fueron estrenados entre 1999 y 2005. En la cola estarían las primeras películas de Star Wars, los episodios IV, V y VI."
   ]
  },
  {
   "cell_type": "code",
   "execution_count": null,
   "id": "cc1105ce-1663-4bcf-8b29-0bbca524ec28",
   "metadata": {},
   "outputs": [],
   "source": [
    "source = raw_data\n",
    "alt.Chart(source).mark_bar().encode(\n",
    "    alt.X('PELICULA',sort='-y'),\n",
    "    y='BENEFICIO NETO',\n",
    "         # The highlight will be set on the result of a conditional statement\n",
    "    color=alt.condition(\n",
    "        alt.datum.SAGA == 'STAR WARS',  # If the year is 1810 this test returns True,\n",
    "        alt.value('steelblue'),     # which sets the bar orange.\n",
    "        alt.value('red')   # And if it's not true it sets the bar steelblue.\n",
    "    )\n",
    ").properties(width=600,title='Relación de peliculas por beneficio neto')"
   ]
  },
  {
   "cell_type": "code",
   "execution_count": null,
   "id": "c1051383-1483-4ac0-806e-cb3a64ed15ee",
   "metadata": {},
   "outputs": [],
   "source": [
    "source = raw_data\n",
    "\n",
    "alt.Chart(source).mark_bar().encode(\n",
    "    alt.X('PELICULA',sort='-y'),\n",
    "    y='BENEFICIO RELATIVO %',\n",
    "         # The highlight will be set on the result of a conditional statement\n",
    "    color=alt.condition(\n",
    "        alt.datum.SAGA == 'STAR WARS',  # If the year is 1810 this test returns True,\n",
    "        alt.value('steelblue'),     # which sets the bar orange.\n",
    "        alt.value('red')   # And if it's not true it sets the bar steelblue.\n",
    "    )\n",
    ").properties(width=600,title='relación de películas por beneficio relativo')"
   ]
  },
  {
   "cell_type": "markdown",
   "id": "78c68485-5338-4aff-8c1b-d1a352f6e2a7",
   "metadata": {},
   "source": [
    "La pelicula de Star Wars : \"Una nueva esperanza\" tuvo mucho menor presupuesto que la peícula de \"The Avengers\", tuvo menos beneficio neto, pero en cuanto a BENEFICIO RELATIVO, ambas tuvieron en torno al 98'5% de Beneficio"
   ]
  },
  {
   "cell_type": "markdown",
   "id": "5c6ab5a7-e2fd-4f0b-afd6-7c827e0cec2b",
   "metadata": {},
   "source": [
    "Se observar que aunque la curva de beneficio neto es muy desigual(con una clara ventaja de la primera película de los vengadores), la del  beneficio relativo no tiene estos picos."
   ]
  },
  {
   "cell_type": "code",
   "execution_count": null,
   "id": "69d0a986-70c6-4bf9-aef1-d730c5b9b525",
   "metadata": {},
   "outputs": [],
   "source": [
    "El presupuesto en total para las películas de \"Avengers\", que son 4, supera al del total de presupuesto de Star Wars."
   ]
  },
  {
   "cell_type": "code",
   "execution_count": null,
   "id": "ee22ed27-3884-4281-98cc-a2656f1e902b",
   "metadata": {},
   "outputs": [],
   "source": [
    "raw_data.groupby(['SAGA']).mean()['PRESUPUESTO PONDERADO POR INFLACION'].Series()"
   ]
  }
 ],
 "metadata": {
  "kernelspec": {
   "display_name": "Python 3 (ipykernel)",
   "language": "python",
   "name": "python3"
  },
  "language_info": {
   "codemirror_mode": {
    "name": "ipython",
    "version": 3
   },
   "file_extension": ".py",
   "mimetype": "text/x-python",
   "name": "python",
   "nbconvert_exporter": "python",
   "pygments_lexer": "ipython3",
   "version": "3.8.10"
  }
 },
 "nbformat": 4,
 "nbformat_minor": 5
}
